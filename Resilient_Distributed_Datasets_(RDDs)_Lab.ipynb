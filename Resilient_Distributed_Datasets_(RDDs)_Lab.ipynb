{
  "nbformat": 4,
  "nbformat_minor": 0,
  "metadata": {
    "kernelspec": {
      "display_name": "Python 3",
      "language": "python",
      "name": "python3"
    },
    "language_info": {
      "codemirror_mode": {
        "name": "ipython",
        "version": 3
      },
      "file_extension": ".py",
      "mimetype": "text/x-python",
      "name": "python",
      "nbconvert_exporter": "python",
      "pygments_lexer": "ipython3",
      "version": "3.7.3"
    },
    "colab": {
      "name": "Resilient Distributed Datasets (RDDs) - Lab.ipynb",
      "provenance": [],
      "collapsed_sections": [],
      "include_colab_link": true
    }
  },
  "cells": [
    {
      "cell_type": "markdown",
      "metadata": {
        "id": "view-in-github",
        "colab_type": "text"
      },
      "source": [
        "<a href=\"https://colab.research.google.com/github/linhmai19/dsc-resilient-distributed-datasets-rdd-lab-online-ds-sp-000/blob/master/Resilient_Distributed_Datasets_(RDDs)_Lab.ipynb\" target=\"_parent\"><img src=\"https://colab.research.google.com/assets/colab-badge.svg\" alt=\"Open In Colab\"/></a>"
      ]
    },
    {
      "cell_type": "markdown",
      "metadata": {
        "id": "N7MmuS4BEqKY",
        "colab_type": "text"
      },
      "source": [
        "## Resilient Distributed Datasets (RDDs) - Lab\n",
        "\n",
        "Resilient Distributed Datasets (RDD) are fundamental data structures of Spark. An RDD is essentially the Spark representation of a set of data, spread across multiple machines, with APIs to let you act on it. An RDD can come from any data source, e.g. text files, a database, a JSON file, etc.\n",
        "\n",
        "\n",
        "## Objectives\n",
        "\n",
        "You will be able to:\n",
        "\n",
        "- Apply the map(func) transformation to a given function on all elements of an RDD in different partitions \n",
        "- Apply a map transformation for all elements of an RDD \n",
        "- Compare the difference between a transformation and an action within RDDs \n",
        "- Use collect(), count(), and take() actions to trigger spark transformations  \n",
        "- Use filter to select data that meets certain specifications within an RDD \n",
        "- Set number of partitions for parallelizing RDDs \n",
        "- Create RDDs from Python collections \n"
      ]
    },
    {
      "cell_type": "markdown",
      "metadata": {
        "id": "NjSUG369EqKZ",
        "colab_type": "text"
      },
      "source": [
        "## What are RDDs? \n",
        "\n",
        "To get a better understanding of RDDs, let's break down each one of the components of the acronym RDD:\n",
        "\n",
        "Resilient: RDDs are considered \"resilient\" because they have built-in fault tolerance. This means that even if one of the nodes goes offline, RDDs will be able to restore the data. This is already a huge advantage compared to standard storage. If a standard computer dies while performing an operation, all of its memory will be lost in the process. With RDDs, multiple nodes can go offline, and the action will still be held in working memory.\n",
        "\n",
        "Distributed: The data is contained on multiple nodes of a cluster-computing operation. It is efficiently partitioned to allow for parallelism.\n",
        "\n",
        "Dataset: The dataset has been * partitioned * across the multiple nodes. \n",
        "\n",
        "RDDs are the building block upon which more high-level Spark operations are based upon. Chances are, if you are performing an action using Spark, the operation involves RDDs. \n",
        "\n",
        "\n",
        "\n",
        "Key Characteristics of RDDs:\n",
        "\n",
        "- Immutable: Once an RDD is created, it cannot be modified. \n",
        "- Lazily Evaluated: RDDs will not be evaluated until an action is triggered. Essentially, when RDDs are created, they are programmed to perform some action, but that function will not get activated until it is explicitly called. The reason for lazy evaluation is that allows users to organize the actions of their Spark program into smaller actions. It also saves unnecessary computation and memory load.\n",
        "- In-Memory: The operations in Spark are performed in-memory rather than in the database. This is what allows Spark to perform fast operations with very large quantities of data.\n",
        "\n",
        "\n"
      ]
    },
    {
      "cell_type": "markdown",
      "metadata": {
        "id": "pQXzSShSEqKa",
        "colab_type": "text"
      },
      "source": [
        "### RDD Transformations vs Actions\n",
        "\n",
        "In Spark, we first create a __base RDD__ and then apply one or more transformations to that base RDD following our processing needs. Being immutable means, **once an RDD is created, it cannot be changed**. As a result, **each transformation of an RDD creates a new RDD**. Finally, we can apply one or more **actions** to the RDDs. Spark uses lazy evaluation, so transformations are not actually executed until an action occurs.\n",
        "\n",
        "\n",
        "<img src=\"./images/rdd_diagram.png\" width=500>"
      ]
    },
    {
      "cell_type": "markdown",
      "metadata": {
        "id": "_deibYg_EqKb",
        "colab_type": "text"
      },
      "source": [
        "### Transformations\n",
        "\n",
        "Transformations create a new dataset from an existing one by passing each dataset element through a function and returning a new RDD representing the results. In short, creating an RDD from an existing RDD is ‘transformation’.\n",
        "All transformations in Spark are lazy. They do not compute their results right away. Instead, they just remember the transformations applied to some base dataset (e.g. a file). The transformations are only computed when an action requires a result that needs to be returned to the driver program.\n",
        "A transformation is an RDD that returns another RDD, like map, flatMap, filter, reduceByKey, join, cogroup, etc.\n",
        "\n",
        "### Actions\n",
        "Actions return final results of RDD computations. Actions trigger execution using lineage graph to load the data into original RDD and carry out all intermediate transformations and return the final results to the driver program or writes it out to the file system. An action returns a value (to a Spark driver - the user program).\n",
        "\n",
        "Here are some key transformations and actions that we will explore.\n",
        "\n",
        "\n",
        "| Transformations   | Actions       |\n",
        "|-------------------|---------------|\n",
        "| map(func)         | reduce(func)  |\n",
        "| filter(func)      | collect()     |\n",
        "| groupByKey()      | count()       |\n",
        "| reduceByKey(func) | first()       |\n",
        "| mapValues(func)   | take()        |\n",
        "| sample()          | countByKey()  |\n",
        "| distinct()        | foreach(func) |\n",
        "| sortByKey()       |               |\n"
      ]
    },
    {
      "cell_type": "markdown",
      "metadata": {
        "id": "n5zcpaTQEqKb",
        "colab_type": "text"
      },
      "source": [
        "Let's see how transformations and actions work through a simple example. In this example, we will perform several actions and transformations on RDDs in order to obtain a better understanding of Spark processing. \n",
        "\n",
        "### Create a Python collection \n",
        "\n",
        "We need some data to start experimenting with RDDs. Let's create some sample data and see how RDDs handle it. To practice working with RDDs, we're going to use a simple Python list.\n",
        "\n",
        "- Create a Python list `data` of integers between 1 and 1000 using the `range()` function. \n",
        "- Sanity check: confirm the length of the list (it should be 1000)"
      ]
    },
    {
      "cell_type": "code",
      "metadata": {
        "id": "dfnxgdOIS15i",
        "colab_type": "code",
        "colab": {}
      },
      "source": [
        "!apt-get install openjdk-8-jdk-headless -qq > /dev/null\n",
        "!wget -q https://downloads.apache.org/spark/spark-2.4.6/spark-2.4.6-bin-hadoop2.7.tgz\n",
        "!tar xf spark-2.4.6-bin-hadoop2.7.tgz\n",
        "!pip install -q findspark"
      ],
      "execution_count": 1,
      "outputs": []
    },
    {
      "cell_type": "code",
      "metadata": {
        "id": "jKYuM5NS7Yaf",
        "colab_type": "code",
        "colab": {}
      },
      "source": [
        "import os\n",
        "os.environ[\"JAVA_HOME\"] = \"/usr/lib/jvm/java-8-openjdk-amd64\"\n",
        "os.environ[\"SPARK_HOME\"] = \"/content/spark-2.4.6-bin-hadoop2.7\""
      ],
      "execution_count": 2,
      "outputs": []
    },
    {
      "cell_type": "code",
      "metadata": {
        "id": "DXgYWOlC7l_9",
        "colab_type": "code",
        "colab": {
          "base_uri": "https://localhost:8080/",
          "height": 50
        },
        "outputId": "35f88f33-c442-4629-dde1-dd969a93bf87"
      },
      "source": [
        "!pip install pyspark==2.4.0"
      ],
      "execution_count": 3,
      "outputs": [
        {
          "output_type": "stream",
          "text": [
            "Requirement already satisfied: pyspark==2.4.0 in /usr/local/lib/python3.6/dist-packages (2.4.0)\n",
            "Requirement already satisfied: py4j==0.10.7 in /usr/local/lib/python3.6/dist-packages (from pyspark==2.4.0) (0.10.7)\n"
          ],
          "name": "stdout"
        }
      ]
    },
    {
      "cell_type": "code",
      "metadata": {
        "id": "4xMpUw4ZEqKc",
        "colab_type": "code",
        "colab": {
          "base_uri": "https://localhost:8080/",
          "height": 33
        },
        "outputId": "ff9cfe15-3ffe-461d-dafa-32648133c77a"
      },
      "source": [
        "# Create a Python list data of integers between 1 and 1000\n",
        "data = list(range(1, 1001))\n",
        "len(data)"
      ],
      "execution_count": 4,
      "outputs": [
        {
          "output_type": "execute_result",
          "data": {
            "text/plain": [
              "1000"
            ]
          },
          "metadata": {
            "tags": []
          },
          "execution_count": 4
        }
      ]
    },
    {
      "cell_type": "markdown",
      "metadata": {
        "id": "fjlKBElPEqKg",
        "colab_type": "text"
      },
      "source": [
        "### Initialize an RDD\n",
        "\n",
        "When using Spark to make computations, datasets are treated as lists of entries. Those lists are split into different partitions across different cores or different computers. Each list of data held in memory is a partition of the RDD. The reason why Spark is able to make computations far faster than other big data processing languages is that it allows all data to be stored __in-memory__, which allows for easy access to the data and, in turn, high-speed processing. Here is an example of how the alphabet might be split into different RDDs and held across a distributed collection of nodes:\n",
        "\n",
        "<img src =\"./images/partitions_1.png\" width =\"500\">  \n",
        "To initialize an RDD, first import `pyspark` and then create a SparkContext assigned to the variable `sc`. Use `'local[*]'` as the master."
      ]
    },
    {
      "cell_type": "code",
      "metadata": {
        "id": "jAX4cuoFEqKg",
        "colab_type": "code",
        "colab": {}
      },
      "source": [
        "import pyspark\n",
        "sc = pyspark.SparkContext('local[*]')"
      ],
      "execution_count": 5,
      "outputs": []
    },
    {
      "cell_type": "markdown",
      "metadata": {
        "id": "OM-WHehoEqKk",
        "colab_type": "text"
      },
      "source": [
        "Once you've created the SparkContext, you can use the `.parallelize()` method to create an RDD that will distribute the list of numbers across multiple cores. Here, create one called `rdd` with 10 partitions using `data` as the collection you are parallelizing."
      ]
    },
    {
      "cell_type": "code",
      "metadata": {
        "id": "HBfP_SgFEqKk",
        "colab_type": "code",
        "colab": {
          "base_uri": "https://localhost:8080/",
          "height": 33
        },
        "outputId": "a010bed1-bd9c-49d2-bf11-b19c7d432ed4"
      },
      "source": [
        "rdd = sc.parallelize(data, numSlices=10)\n",
        "print(type(rdd))\n",
        "# <class 'pyspark.rdd.RDD'>"
      ],
      "execution_count": 6,
      "outputs": [
        {
          "output_type": "stream",
          "text": [
            "<class 'pyspark.rdd.RDD'>\n"
          ],
          "name": "stdout"
        }
      ]
    },
    {
      "cell_type": "markdown",
      "metadata": {
        "id": "x7xZyQD0EqKn",
        "colab_type": "text"
      },
      "source": [
        "Determine how many partitions are being used with this RDD with the `.getNumPartitions()` method."
      ]
    },
    {
      "cell_type": "code",
      "metadata": {
        "id": "9TxlgojfEqKo",
        "colab_type": "code",
        "colab": {
          "base_uri": "https://localhost:8080/",
          "height": 33
        },
        "outputId": "159c480d-e30f-4308-cad0-0c93a98c99ef"
      },
      "source": [
        "rdd.getNumPartitions()\n",
        "# 10"
      ],
      "execution_count": 7,
      "outputs": [
        {
          "output_type": "execute_result",
          "data": {
            "text/plain": [
              "10"
            ]
          },
          "metadata": {
            "tags": []
          },
          "execution_count": 7
        }
      ]
    },
    {
      "cell_type": "markdown",
      "metadata": {
        "id": "9mPPqbKWEqKr",
        "colab_type": "text"
      },
      "source": [
        "### Basic descriptive RDD actions\n",
        "\n",
        "Let's perform some basic operations on our RDD. In the cell below, use the methods:\n",
        "* `count`: returns the total count of items in the RDD \n",
        "* `first`: returns the first item in the RDD\n",
        "* `take`: returns the first `n` items in the RDD\n",
        "* `top`: returns the top `n` items\n",
        "* `collect`: returns everything from your RDD\n",
        "\n",
        "\n",
        "It's important to note that in a big data context, calling the collect method will often take a very long time to execute and should be handled with care!"
      ]
    },
    {
      "cell_type": "code",
      "metadata": {
        "scrolled": true,
        "id": "HT1XtDf9EqKs",
        "colab_type": "code",
        "colab": {
          "base_uri": "https://localhost:8080/",
          "height": 33
        },
        "outputId": "4f6cf701-2259-469d-ee3b-18d290fd6219"
      },
      "source": [
        "# returns the total count of items in the RDD\n",
        "rdd.count()"
      ],
      "execution_count": 9,
      "outputs": [
        {
          "output_type": "execute_result",
          "data": {
            "text/plain": [
              "1000"
            ]
          },
          "metadata": {
            "tags": []
          },
          "execution_count": 9
        }
      ]
    },
    {
      "cell_type": "code",
      "metadata": {
        "id": "iCoRUsAREqKv",
        "colab_type": "code",
        "colab": {
          "base_uri": "https://localhost:8080/",
          "height": 33
        },
        "outputId": "dbe1a6da-5779-45ea-8036-fabd305180cb"
      },
      "source": [
        "# returns the first item in the RDD\n",
        "rdd.first()"
      ],
      "execution_count": 10,
      "outputs": [
        {
          "output_type": "execute_result",
          "data": {
            "text/plain": [
              "1"
            ]
          },
          "metadata": {
            "tags": []
          },
          "execution_count": 10
        }
      ]
    },
    {
      "cell_type": "code",
      "metadata": {
        "id": "0H3YkzCgEqKz",
        "colab_type": "code",
        "colab": {
          "base_uri": "https://localhost:8080/",
          "height": 33
        },
        "outputId": "45dea429-dd8e-4ab1-e19b-767fd01735c0"
      },
      "source": [
        "# returns the first n items in the RDD\n",
        "rdd.take(10)"
      ],
      "execution_count": 12,
      "outputs": [
        {
          "output_type": "execute_result",
          "data": {
            "text/plain": [
              "[1, 2, 3, 4, 5, 6, 7, 8, 9, 10]"
            ]
          },
          "metadata": {
            "tags": []
          },
          "execution_count": 12
        }
      ]
    },
    {
      "cell_type": "code",
      "metadata": {
        "id": "5mV9CVkAEqK2",
        "colab_type": "code",
        "colab": {
          "base_uri": "https://localhost:8080/",
          "height": 33
        },
        "outputId": "beb44235-3e92-450a-e2b2-39c1abb195a2"
      },
      "source": [
        "# returns the top n items\n",
        "rdd.top(5)"
      ],
      "execution_count": 13,
      "outputs": [
        {
          "output_type": "execute_result",
          "data": {
            "text/plain": [
              "[1000, 999, 998, 997, 996]"
            ]
          },
          "metadata": {
            "tags": []
          },
          "execution_count": 13
        }
      ]
    },
    {
      "cell_type": "code",
      "metadata": {
        "scrolled": true,
        "id": "vEJNe26gEqK4",
        "colab_type": "code",
        "colab": {}
      },
      "source": [
        "# returns everything from your RDD\n",
        "rdd.collect()"
      ],
      "execution_count": null,
      "outputs": []
    },
    {
      "cell_type": "markdown",
      "metadata": {
        "id": "qJjG4OkrEqK7",
        "colab_type": "text"
      },
      "source": [
        "## Map functions\n",
        "\n",
        "Now that you've been working a little bit with RDDs, let's make this a little more interesting. Imagine you're running a hot new e-commerce startup called BuyStuff, and you're trying to track of how much it charges customers from each item sold. In the next cell, we're going to create simulated data by multiplying the values 1-1000 with a random number from 0-1."
      ]
    },
    {
      "cell_type": "code",
      "metadata": {
        "id": "1fh0osU2EqK8",
        "colab_type": "code",
        "colab": {
          "base_uri": "https://localhost:8080/",
          "height": 1000
        },
        "outputId": "7d62bf19-d5cd-4111-e855-1f12cab41a37"
      },
      "source": [
        "import random\n",
        "import numpy as np\n",
        "\n",
        "nums = np.array(range(1, 1001))\n",
        "sales_figures = nums * np.random.rand(1000)\n",
        "sales_figures"
      ],
      "execution_count": 17,
      "outputs": [
        {
          "output_type": "execute_result",
          "data": {
            "text/plain": [
              "array([1.48250253e-01, 1.81274180e+00, 3.65452573e-01, 2.46193307e+00,\n",
              "       1.71815721e+00, 1.58353789e-01, 6.22781992e+00, 5.25387711e+00,\n",
              "       1.09016542e+00, 2.21650097e+00, 4.16677686e+00, 1.07822107e+01,\n",
              "       5.86465556e+00, 8.73343991e+00, 6.95142627e+00, 3.88702595e+00,\n",
              "       1.24459125e+01, 5.08397397e+00, 5.96151257e+00, 1.00459154e+01,\n",
              "       1.29560874e+01, 1.11597733e+00, 6.06627736e+00, 1.97104266e+01,\n",
              "       2.19134986e+00, 2.45180875e+01, 1.70142650e+01, 1.32294071e+00,\n",
              "       1.00310977e+01, 1.48874693e+01, 2.86278267e+01, 1.87278434e+01,\n",
              "       2.56699186e+01, 1.21986146e+01, 3.20725477e+01, 2.01591999e+01,\n",
              "       1.62395659e+01, 2.77165630e+01, 7.41274462e+00, 1.50851415e+01,\n",
              "       3.40967579e+01, 1.28302594e+01, 1.85232328e+01, 4.11659760e+01,\n",
              "       4.13459099e+01, 2.51336868e+01, 2.36010832e+01, 4.58513822e+01,\n",
              "       1.25183739e+01, 2.05882638e+01, 1.98563938e+01, 2.09413545e+01,\n",
              "       2.57446425e+01, 4.07536555e+01, 2.43079565e+01, 1.56323897e+01,\n",
              "       2.71718045e+01, 4.32142812e+00, 2.35954836e+01, 5.01544957e+01,\n",
              "       1.46483699e+01, 9.02742997e-01, 1.45842409e+01, 5.27355049e+01,\n",
              "       6.40430836e+01, 2.69364550e+01, 3.88188094e+01, 5.02457659e+01,\n",
              "       6.69460810e+01, 5.98072701e+01, 6.82968548e+01, 6.66734004e+01,\n",
              "       1.60865186e+01, 4.59735985e+01, 4.71838635e+01, 6.61587487e+01,\n",
              "       6.09011349e+00, 1.05613311e+00, 3.97759198e+01, 4.46838428e+01,\n",
              "       3.42414102e+01, 5.28527631e+01, 7.44218847e+01, 5.68173002e+01,\n",
              "       3.70826901e+01, 9.50095726e+00, 1.72703022e+00, 6.01593929e+01,\n",
              "       1.86847215e+01, 9.98534864e+00, 3.81597322e+01, 4.28490163e+01,\n",
              "       1.86429207e+01, 2.47884176e+01, 2.30042716e+01, 1.95062460e+01,\n",
              "       1.19295809e+01, 8.31480517e+01, 2.78596235e+01, 4.43152216e+00,\n",
              "       3.92177020e+01, 9.33678359e+01, 1.51045544e+01, 6.74404223e+01,\n",
              "       8.64896089e+01, 7.98422612e+01, 8.39140023e+01, 6.85057970e+01,\n",
              "       5.26181955e+01, 1.46285148e+01, 9.74446619e+01, 3.76584346e+01,\n",
              "       6.89460475e+01, 5.72385349e+01, 6.78569378e+01, 1.64036998e+01,\n",
              "       5.39978838e+01, 7.71148786e+01, 1.29586102e-01, 7.26649445e+01,\n",
              "       4.50027465e+01, 4.96830369e+01, 1.55782976e+01, 1.81414957e+01,\n",
              "       1.00755297e+02, 1.01748902e+02, 7.90552591e+01, 1.15153895e+02,\n",
              "       5.08895557e+01, 3.72097310e+01, 4.88665306e+01, 9.75545460e+00,\n",
              "       5.68817334e+01, 7.16518682e+01, 7.58707173e+01, 6.85766227e+01,\n",
              "       8.78351493e+01, 2.76371712e+01, 1.66274208e+01, 3.80699657e+01,\n",
              "       7.22446901e+01, 1.20211397e+02, 1.40612868e+02, 1.22261153e+02,\n",
              "       1.24100980e+02, 1.36532284e+02, 5.48171315e+01, 1.38325472e+02,\n",
              "       5.64357657e-01, 6.40483807e+01, 9.14060721e+01, 1.30268941e+02,\n",
              "       1.34553320e+02, 4.17567426e+00, 3.15583058e+01, 1.41140394e+02,\n",
              "       1.07348519e+01, 6.93864315e+00, 4.57158776e+01, 4.44715790e+00,\n",
              "       2.11112449e+01, 3.62180828e+01, 4.48320114e+00, 2.34075078e+01,\n",
              "       3.50165548e+01, 4.61445587e+01, 1.21406149e+02, 1.67659762e+02,\n",
              "       1.11188234e+02, 1.20213714e+02, 1.46604477e+02, 4.33375609e+01,\n",
              "       5.85967298e+00, 1.63741210e+02, 5.05068308e+01, 1.05007528e+02,\n",
              "       4.11695754e+01, 7.23043750e+01, 1.32058287e+02, 1.69908854e+02,\n",
              "       1.00146273e+02, 1.08662068e+02, 9.02754802e+00, 1.63592576e+01,\n",
              "       1.59390011e+02, 4.61026132e+01, 1.56700971e+02, 2.73025767e+01,\n",
              "       1.59930541e+02, 7.00219621e+01, 1.45901613e+02, 1.18386660e+02,\n",
              "       3.94428041e+01, 2.08594425e+01, 8.41273031e+01, 4.10284029e+01,\n",
              "       1.86394530e+02, 8.68821573e+01, 1.22254960e+02, 1.77389910e+02,\n",
              "       8.78975689e+00, 2.55389350e+01, 1.13799202e+02, 8.77558206e+01,\n",
              "       4.57142541e+01, 1.77625339e+02, 1.03307818e+02, 6.62928002e+01,\n",
              "       1.05833978e+02, 1.12081140e+02, 1.11301014e+02, 1.91543997e+02,\n",
              "       4.64049880e+01, 7.41459878e+01, 1.41048683e+02, 9.32435721e+01,\n",
              "       1.90751196e+02, 1.77604277e+02, 8.82120690e+01, 6.26055502e+01,\n",
              "       1.35876003e+02, 7.41132078e+01, 4.73508404e+01, 1.04000703e+02,\n",
              "       3.88357187e+00, 1.36936215e+02, 1.71034619e+02, 1.99319045e+02,\n",
              "       1.99791725e+02, 1.58238739e+02, 4.58686642e+01, 2.05570644e+02,\n",
              "       1.57599902e+02, 6.07285488e+01, 7.22865040e+01, 7.94991104e+01,\n",
              "       2.23123680e+00, 1.39948441e+02, 1.70161108e+02, 1.58725495e+02,\n",
              "       1.27330283e+02, 2.27206196e+02, 1.72083979e+02, 1.76577219e+02,\n",
              "       1.27878205e+02, 1.86575043e+02, 9.60381607e+01, 1.58492444e+02,\n",
              "       1.58671961e+02, 2.47833738e+02, 1.33966393e+02, 1.92764793e+02,\n",
              "       9.08532092e+01, 2.51430654e+02, 9.28903351e+01, 1.16274750e+02,\n",
              "       1.60596664e+02, 1.15473305e+02, 2.31050559e+02, 1.23051931e+02,\n",
              "       2.00701755e+02, 5.16158690e+01, 1.51433675e+02, 3.73385756e+01,\n",
              "       9.21663893e+01, 5.77018715e+01, 6.70072430e+01, 2.46631535e+02,\n",
              "       2.64854173e+02, 1.43824604e+02, 2.56591347e+02, 2.44212786e+02,\n",
              "       1.39243499e+02, 2.39046469e+02, 2.32511695e+02, 1.16505555e+02,\n",
              "       2.29048282e+02, 2.74727268e+02, 7.40982282e+01, 2.47797776e+02,\n",
              "       1.90425786e+02, 5.22625220e+01, 2.50274850e+02, 2.40263229e+02,\n",
              "       1.35250218e+02, 3.78091156e+01, 4.19859521e+01, 5.35519352e+01,\n",
              "       2.15356816e+02, 1.20516796e+02, 1.39589714e+02, 2.58284885e+02,\n",
              "       3.53135060e+01, 2.64793164e+02, 4.21519795e+01, 1.72986978e+02,\n",
              "       1.18383784e+02, 7.48738279e+01, 2.91055757e+02, 1.83070589e+02,\n",
              "       5.35860664e+01, 2.71586495e+02, 2.80828734e+02, 1.55098648e+02,\n",
              "       2.16859279e+01, 2.72690076e+02, 1.89106097e+02, 2.00999257e+02,\n",
              "       1.46498933e+02, 3.00426364e+02, 1.55533168e+01, 6.60767055e+00,\n",
              "       2.96385472e+02, 2.01023110e+02, 2.06878860e+02, 1.46549835e+02,\n",
              "       1.38102761e+02, 1.90620577e+02, 3.47307359e+01, 1.50631659e+01,\n",
              "       1.24725737e+01, 2.25187786e+02, 2.61875032e+02, 1.69494818e+02,\n",
              "       1.36435466e+02, 1.17175707e+02, 4.39656126e+01, 9.80581616e+01,\n",
              "       2.20437095e+02, 9.72628803e+01, 1.53858311e+02, 1.40402928e+02,\n",
              "       3.82779547e+01, 8.85991505e+01, 2.55694533e+02, 3.18813754e+01,\n",
              "       3.03924428e+02, 1.04984442e+02, 3.90408277e+01, 3.17198268e+02,\n",
              "       3.17322075e+02, 1.78805007e+01, 1.71541108e+02, 3.30018703e+02,\n",
              "       1.19342016e+01, 2.27563872e+02, 5.58047709e+01, 3.46730589e+02,\n",
              "       2.85798540e+02, 2.34676239e+01, 1.74897885e+02, 3.14864802e+02,\n",
              "       2.33192943e+02, 1.49895703e+02, 3.04440800e+02, 8.39970817e+01,\n",
              "       1.40469172e+02, 3.89354474e+01, 2.55509593e+02, 1.24577603e+02,\n",
              "       2.80454909e+01, 1.39785135e+02, 2.62196744e+02, 2.98880635e+02,\n",
              "       1.03372113e+01, 3.07731201e+02, 2.95638772e+02, 2.36630479e+02,\n",
              "       9.78755854e+00, 1.59038572e+02, 2.18020698e-01, 3.21977965e+02,\n",
              "       1.85284727e+01, 3.19573409e+02, 7.15927690e+01, 2.43652925e+02,\n",
              "       1.54421230e+01, 7.21100132e+01, 2.22114177e+02, 1.27855619e+02,\n",
              "       1.53263347e+02, 1.94437768e+01, 1.80986308e+02, 1.50736797e+02,\n",
              "       3.17880422e+02, 1.75529561e+01, 6.04903087e+01, 5.95420039e+01,\n",
              "       2.86077715e+02, 3.67989429e+02, 1.64139485e+02, 3.35567729e+01,\n",
              "       1.31771061e+02, 8.75101447e+01, 8.77299136e+01, 6.60383166e+00,\n",
              "       3.25358973e+02, 1.83209946e+02, 1.02972913e+02, 2.33929798e+02,\n",
              "       3.67682595e+01, 2.07903676e+01, 2.27569578e+02, 4.08921422e+01,\n",
              "       2.02650668e+02, 3.79877710e+02, 3.49575860e+02, 1.89929557e+02,\n",
              "       9.00239100e+01, 2.44487694e+02, 4.10513155e+02, 3.26853276e+02,\n",
              "       1.36832555e+02, 3.32002097e+02, 3.40590786e+01, 2.64210790e+02,\n",
              "       2.59142110e+01, 2.94961453e+02, 3.27670851e+02, 4.03499153e+02,\n",
              "       1.54476198e+01, 1.02027538e+02, 4.12733280e+02, 3.59137762e+02,\n",
              "       1.66829574e+02, 2.72361415e+02, 1.39413962e+02, 2.45010298e+02,\n",
              "       4.03274716e+02, 2.76978859e+02, 1.15198721e+02, 3.53753374e+02,\n",
              "       2.37853261e+02, 3.93901632e+02, 4.28429686e+02, 2.69824550e+02,\n",
              "       3.73497825e+02, 1.40763268e+02, 1.40941116e+01, 1.79853881e+02,\n",
              "       3.46187768e+02, 1.63184532e+02, 3.90931180e+01, 4.38165475e+02,\n",
              "       5.32437480e+01, 7.43369557e+01, 3.45127517e+02, 2.32424500e+02,\n",
              "       2.14665606e+02, 1.25698321e+02, 1.88467748e+02, 4.41984395e+02,\n",
              "       2.86809977e+02, 4.53711984e+02, 3.07929443e+02, 2.04552455e+02,\n",
              "       2.22298535e+02, 5.10993260e+01, 9.56954517e+01, 3.96944519e+02,\n",
              "       4.06940546e+02, 7.48125963e+01, 7.34819593e+01, 2.05879173e+02,\n",
              "       4.48806241e+00, 2.61279649e+02, 2.98072443e+01, 4.15245949e+02,\n",
              "       2.90044049e+02, 3.28414472e+02, 3.67114125e+01, 3.86605106e+01,\n",
              "       1.00206949e+02, 3.51713582e+02, 6.11975038e+01, 4.14117316e+02,\n",
              "       4.09048268e+02, 3.09618853e+02, 2.83038590e+02, 9.50508790e+01,\n",
              "       1.45950204e+02, 4.64575741e+01, 2.46520594e+02, 2.80558350e+02,\n",
              "       7.51775719e+01, 2.08083739e+01, 3.25054342e+02, 1.88945605e+02,\n",
              "       4.22118153e+02, 4.68789061e+02, 1.88136209e+01, 3.50431185e+02,\n",
              "       4.51241465e+01, 1.59491696e+02, 3.85313650e-01, 8.86490916e+00,\n",
              "       4.18693680e+01, 4.36194303e+02, 2.57466600e+02, 3.34055077e+01,\n",
              "       4.34147434e+01, 2.04457135e+02, 8.96099479e+00, 4.89223616e+02,\n",
              "       3.00860731e+02, 5.19322933e+01, 3.55749749e+02, 1.31728372e+02,\n",
              "       2.42945072e+02, 4.25627808e+02, 3.68179657e+02, 3.48623438e+02,\n",
              "       4.68447444e+02, 7.15641060e+01, 2.28095467e+02, 9.71060336e+01,\n",
              "       2.31308532e+02, 5.00133210e+02, 3.18695803e+02, 5.05416436e+02,\n",
              "       2.81668195e+02, 5.94672205e+01, 2.75282376e+02, 2.36071382e+02,\n",
              "       4.27962185e+02, 5.24213093e+02, 2.97175520e+02, 2.96819233e+00,\n",
              "       2.68710169e+02, 3.88081604e+02, 4.64709446e+02, 6.44709164e+01,\n",
              "       2.45154195e+02, 3.49296570e+02, 2.47400646e+02, 8.68698478e+01,\n",
              "       2.10999961e+02, 4.68428489e+02, 1.22073297e+02, 5.02217349e+02,\n",
              "       2.87467324e+02, 4.61783832e+02, 1.87439976e+02, 4.79144628e+02,\n",
              "       4.36557664e+02, 6.58290475e+01, 1.57756318e+02, 5.59099420e+01,\n",
              "       1.13669276e+02, 3.49360671e+02, 2.30424944e+01, 2.82364375e+02,\n",
              "       1.38387671e+02, 3.32929827e+02, 7.62324260e+01, 3.00275908e+01,\n",
              "       2.66415670e+02, 1.39219645e+02, 5.30599838e+02, 1.67459374e+02,\n",
              "       4.23747383e+01, 5.10132729e+02, 1.26858014e+01, 4.04067030e+02,\n",
              "       5.01467373e+02, 2.63761919e+02, 4.11353973e+02, 4.55556865e+02,\n",
              "       5.95944033e+00, 3.33275759e+02, 5.21683981e+02, 4.90216425e+02,\n",
              "       1.57741041e+02, 1.69800800e+02, 1.18085533e+02, 3.76649456e+02,\n",
              "       4.60948649e+02, 3.59394479e+01, 3.12701011e+02, 5.35162135e+02,\n",
              "       3.53261836e+02, 3.24214914e+02, 3.60351694e+02, 1.26506275e+02,\n",
              "       2.11682758e+02, 5.27671373e+02, 2.91564775e+02, 3.49386434e+02,\n",
              "       5.38135491e+02, 3.73033115e+02, 2.37968088e+02, 5.77485949e+02,\n",
              "       1.68504160e+02, 5.85002301e+02, 4.43300854e+02, 1.39811121e+02,\n",
              "       3.11239552e+02, 1.75759301e+02, 6.57217492e+01, 2.54179131e+02,\n",
              "       3.94402525e+02, 2.14698805e+02, 4.78479883e+02, 5.06043111e+02,\n",
              "       1.21208629e+02, 4.10864872e+02, 7.22394076e+00, 3.27200039e+02,\n",
              "       4.28064392e+02, 4.06778176e+02, 5.44022176e+02, 2.03240592e+02,\n",
              "       3.88866651e+02, 3.56192304e+02, 4.73262349e+02, 3.03140086e+02,\n",
              "       2.06030221e+02, 1.46708639e+02, 5.89187247e+02, 1.49276595e+02,\n",
              "       3.67542360e+02, 3.83724089e+02, 3.24478495e+02, 2.72161050e+02,\n",
              "       1.57477942e+02, 4.16048918e+02, 1.37105571e+02, 1.33933415e+02,\n",
              "       1.37089297e+02, 8.48130777e+01, 3.39435073e+02, 3.34180121e+02,\n",
              "       3.85401689e+01, 1.91870237e+02, 3.80868640e+02, 2.87184516e+02,\n",
              "       4.87637862e+02, 6.24504839e+01, 2.53570953e+02, 6.09179066e+02,\n",
              "       3.83484444e+02, 1.96164633e+02, 3.96682497e+02, 6.34693189e+02,\n",
              "       3.69160190e+02, 2.18992442e+02, 4.37557068e+02, 1.78988243e+01,\n",
              "       2.73973032e+02, 6.47719592e+02, 2.15853245e+02, 6.07199510e+02,\n",
              "       1.32975707e+01, 4.81515478e+02, 3.56513572e+02, 3.19227490e+02,\n",
              "       7.72984643e+01, 4.88066944e+01, 3.85920243e+02, 5.15717463e+02,\n",
              "       3.33919324e+01, 6.45087816e+02, 4.86494308e+02, 6.50421380e+02,\n",
              "       1.59360412e+02, 2.72278036e+02, 1.31333139e+02, 3.27905818e+02,\n",
              "       5.23445578e+02, 8.25066817e+01, 4.37734003e+02, 2.57841580e+02,\n",
              "       1.38740889e+02, 7.67080889e+01, 5.79017584e+02, 6.00088009e+02,\n",
              "       1.83872656e+02, 6.54112353e+02, 5.37631662e+02, 6.21095046e+02,\n",
              "       4.22594340e+02, 5.08148975e+02, 6.21365262e+00, 1.21800053e+01,\n",
              "       8.91256820e+00, 3.66288077e+02, 9.78377516e+01, 5.23095686e+02,\n",
              "       4.05688585e+02, 2.96973771e+02, 2.38766346e+02, 5.17563604e+01,\n",
              "       5.84777013e+02, 3.94944000e+02, 4.14804351e+02, 6.33193077e+02,\n",
              "       4.68823986e+02, 4.12901524e+02, 2.70012369e+01, 6.19559364e+02,\n",
              "       9.99886029e+01, 3.33546276e+02, 3.04656378e+02, 3.37549366e+02,\n",
              "       6.44978964e+02, 5.49413767e+02, 6.68318602e+01, 3.76747101e+02,\n",
              "       7.34994213e+01, 3.22235835e+02, 5.97744036e+02, 7.10692817e+01,\n",
              "       3.79371938e+02, 4.80123958e+02, 1.37259056e+02, 2.12931261e+02,\n",
              "       7.08915613e+02, 3.09513572e+02, 5.92636258e+02, 3.96833489e+02,\n",
              "       4.52906084e+02, 1.69936441e+02, 7.71206754e+01, 3.20092462e+02,\n",
              "       5.93435645e+02, 4.71615180e+02, 2.71102366e+02, 1.03160187e+01,\n",
              "       2.27144362e+02, 3.94778514e+02, 7.68238404e+01, 2.34278226e+02,\n",
              "       6.91200374e+02, 7.01570247e+02, 5.72205087e+02, 6.85179308e+02,\n",
              "       2.47765008e+02, 2.02908400e+01, 4.63469865e+02, 4.51845998e+02,\n",
              "       2.49522736e+02, 3.83817106e+02, 6.74397993e+02, 2.28840903e+02,\n",
              "       2.16588077e+02, 7.69796147e+01, 5.70760159e+02, 5.27379887e+02,\n",
              "       2.50439367e+02, 6.40915544e+02, 1.87761508e+02, 2.33962953e+02,\n",
              "       1.62506132e+02, 3.65696906e+02, 1.23575573e+01, 7.94439861e+01,\n",
              "       2.68715614e+02, 6.52864208e+02, 1.98997342e+02, 5.01609244e+02,\n",
              "       4.77626251e+02, 2.56139184e+02, 3.76115175e+02, 7.56302136e+02,\n",
              "       6.93216443e+02, 3.27294475e+02, 4.79533258e+02, 5.32835915e+02,\n",
              "       6.17833624e+02, 3.68768181e+02, 6.34793943e+02, 5.12617816e+01,\n",
              "       2.13167684e+02, 3.12610623e+02, 2.36103519e+01, 7.04941309e+02,\n",
              "       4.26469944e+01, 7.31568334e+02, 5.85404261e+02, 6.14134713e+02,\n",
              "       4.05512630e+02, 3.44932407e+02, 2.02650461e+01, 5.14656716e+02,\n",
              "       2.88424651e+02, 6.12344489e+02, 7.23936551e+02, 4.08339664e+02,\n",
              "       7.53599483e+02, 5.63117063e+02, 5.87121648e+02, 9.12086538e+01,\n",
              "       6.36636072e+02, 4.03273785e+02, 2.08154836e+02, 6.97322386e+02,\n",
              "       3.81779867e+02, 2.18555903e+02, 7.94097511e+02, 6.97528988e+02,\n",
              "       4.52361403e+02, 1.57326765e+01, 1.67732314e+02, 8.44485600e+01,\n",
              "       6.87634766e+02, 1.51772116e+02, 5.91311445e+02, 2.79480857e+02,\n",
              "       4.23011708e+02, 2.00810117e+02, 5.97443254e+02, 6.14410588e+02,\n",
              "       2.54878288e+02, 5.42191396e+02, 4.61400339e+02, 7.45821630e+02,\n",
              "       4.97923495e+02, 3.52507787e+02, 3.39190492e+02, 5.19634935e+02,\n",
              "       7.95162932e+02, 2.42400655e+02, 2.37318782e+02, 5.18939163e+02,\n",
              "       4.06539023e+02, 3.47973334e+02, 3.46667665e+02, 1.50286728e+02,\n",
              "       6.74535714e+01, 4.87549668e+02, 3.01502045e+02, 7.70169818e+02,\n",
              "       1.87310859e+02, 5.02367073e+02, 4.59433640e+02, 4.44516105e+02,\n",
              "       3.76964165e+00, 8.24056791e+01, 1.48826681e+02, 1.16399293e+02,\n",
              "       9.76338149e+01, 2.65450746e+02, 8.34702413e+02, 3.00949223e+02,\n",
              "       4.75193185e+01, 1.15555174e+02, 1.49206250e+02, 2.78395002e+02,\n",
              "       6.87780318e+02, 4.05588722e+02, 6.51890765e+02, 2.00894085e+02,\n",
              "       7.95934670e+02, 3.04797408e+02, 4.28405959e+02, 5.11329447e+02,\n",
              "       1.27117848e+02, 4.58272861e+02, 4.82476195e+02, 6.93926744e+02,\n",
              "       8.76847940e+01, 8.00965257e+02, 1.09722852e+02, 4.63311284e+02,\n",
              "       3.55594549e+02, 2.17114833e+02, 4.09892102e+02, 7.57498476e+02,\n",
              "       2.29605765e+02, 7.82529064e+02, 3.27634940e+02, 2.94529657e+02,\n",
              "       2.85457430e+02, 3.94259351e+01, 7.40024608e+02, 5.70282876e+02,\n",
              "       1.41439867e+02, 6.74094680e+02, 4.94447874e+02, 4.89513092e+02,\n",
              "       6.62737945e+02, 1.30352884e+02, 2.00983095e+02, 2.60165858e+02,\n",
              "       8.14055476e+02, 2.29880455e+02, 6.85607805e+02, 4.79277339e+02,\n",
              "       7.52853963e+02, 5.24300325e+02, 6.90923192e+02, 5.38051608e+02,\n",
              "       3.04742831e+02, 8.42395866e+02, 4.66757133e+02, 1.26755966e+02,\n",
              "       2.77853520e+02, 2.83272696e+02, 6.84405313e+02, 2.88500442e+02,\n",
              "       7.13868261e+02, 1.30816855e+02, 2.26460486e+02, 8.37144965e+01,\n",
              "       2.84757338e+02, 5.44161899e+02, 4.32031706e+02, 2.21749699e+02,\n",
              "       6.15374650e+02, 9.09407422e+02, 4.50193921e+02, 1.67712077e+02,\n",
              "       2.77356154e+02, 8.16028288e+02, 8.62578980e+02, 4.57322582e+02,\n",
              "       7.56904115e+02, 8.63728513e+02, 4.30685124e+01, 1.00117558e+02,\n",
              "       2.70530840e+02, 4.92885801e+02, 5.05406519e+02, 8.24257071e+02,\n",
              "       6.97663896e+02, 5.32391483e+01, 6.21081129e+02, 1.43851843e+02,\n",
              "       7.90846922e+01, 1.87871309e+01, 8.42733366e+02, 7.94272334e+02,\n",
              "       8.22877723e+02, 4.19508984e+01, 6.39052158e+02, 6.67788009e+02,\n",
              "       4.76410359e+01, 1.00254782e+02, 2.26401967e+02, 7.36889853e+02,\n",
              "       2.17002825e+02, 6.33769714e+02, 6.25964063e+02, 8.57200784e+02,\n",
              "       6.13204509e+01, 5.81986257e+02, 1.12814669e+02, 6.24035207e+02,\n",
              "       2.38506765e+02, 3.59584126e+01, 4.68441610e+02, 8.11248956e+02,\n",
              "       8.35765723e+02, 2.32203631e+02, 1.75514040e+02, 4.56091817e+02,\n",
              "       3.77707577e+02, 6.87960479e+02, 8.02151240e+02, 5.15176602e+02,\n",
              "       3.94737784e+02, 3.25609798e+02, 2.54801013e+02, 3.41880933e+02,\n",
              "       6.98519110e+01, 2.18264975e+02, 7.39724288e+02, 4.32432119e+02,\n",
              "       4.77492085e+02, 4.71334368e+02, 4.29796242e+02, 8.29927123e+01,\n",
              "       4.64677717e+02, 8.78521626e+02, 6.12421462e+02, 7.80476547e+02,\n",
              "       5.56256607e+02, 4.27665257e+01, 2.80075892e+02, 6.44544497e+02,\n",
              "       5.00418393e+02, 1.86613391e+02, 6.21964972e+02, 4.13962606e+02,\n",
              "       6.37079897e+02, 9.83035708e+02, 5.36153055e+02, 8.99714003e+02,\n",
              "       2.62850435e+02, 2.59782712e+02, 8.17959324e+02, 1.39304454e+02,\n",
              "       7.00325250e+02, 9.76026600e+02, 4.61584699e+01, 2.66471281e+02,\n",
              "       5.80345496e+02, 8.32996397e+01, 9.49393765e+02, 7.72748001e+02])"
            ]
          },
          "metadata": {
            "tags": []
          },
          "execution_count": 17
        }
      ]
    },
    {
      "cell_type": "markdown",
      "metadata": {
        "id": "8fS5BxoGEqK_",
        "colab_type": "text"
      },
      "source": [
        "We now have sales prices for 1000 items currently for sale at BuyStuff. Now create an RDD called `price_items` using the newly created data with 10 slices. After you create it, use one of the basic actions to see what's in the RDD."
      ]
    },
    {
      "cell_type": "code",
      "metadata": {
        "id": "FdtLU_7vEqLA",
        "colab_type": "code",
        "colab": {
          "base_uri": "https://localhost:8080/",
          "height": 84
        },
        "outputId": "897ee896-200a-4ccf-e234-653cb6caaffc"
      },
      "source": [
        "price_items = sc.parallelize(sales_figures, numSlices=10)\n",
        "price_items.take(4)\n"
      ],
      "execution_count": 18,
      "outputs": [
        {
          "output_type": "execute_result",
          "data": {
            "text/plain": [
              "[0.14825025266261527,\n",
              " 1.8127417999822932,\n",
              " 0.36545257287253574,\n",
              " 2.4619330679004046]"
            ]
          },
          "metadata": {
            "tags": []
          },
          "execution_count": 18
        }
      ]
    },
    {
      "cell_type": "markdown",
      "metadata": {
        "id": "rW7GrSjlEqLD",
        "colab_type": "text"
      },
      "source": [
        "Now let's perform some operations on this simple dataset. To begin with, create a function that will take into account how much money BuyStuff will receive after sales tax has been applied (assume a sales tax of 8%). To make this happen, create a function called `sales_tax()` that returns the amount of money our company will receive after the sales tax has been applied. The function will have this parameter:\n",
        "\n",
        "* `item`: (float) number to be multiplied by the sales tax.\n",
        "\n",
        "\n",
        "Apply that function to the rdd by using the `.map()` method and assign it to a variable `renenue_minus_tax`"
      ]
    },
    {
      "cell_type": "code",
      "metadata": {
        "id": "lfTp1fxQEqLD",
        "colab_type": "code",
        "colab": {}
      },
      "source": [
        "def sales_tax(num):\n",
        "    return num * 0.92\n",
        "\n",
        "revenue_minus_tax = price_items.map(sales_tax)"
      ],
      "execution_count": 19,
      "outputs": []
    },
    {
      "cell_type": "markdown",
      "metadata": {
        "id": "6D32HQACEqLI",
        "colab_type": "text"
      },
      "source": [
        "Remember, Spark has __lazy evaluation__, which means that the `sales_tax()` function is a transformer that is not executed until you call an action. Use one of the collection methods to execute the transformer now a part of the RDD and observe the contents of the `revenue_minus_tax` rdd."
      ]
    },
    {
      "cell_type": "code",
      "metadata": {
        "scrolled": true,
        "id": "mqg4ofIBEqLI",
        "colab_type": "code",
        "colab": {
          "base_uri": "https://localhost:8080/",
          "height": 184
        },
        "outputId": "730ce2bf-cdb5-4136-9b6e-1df5121a4f64"
      },
      "source": [
        "# perform action to retrieve rdd values\n",
        "revenue_minus_tax.take(10)"
      ],
      "execution_count": 20,
      "outputs": [
        {
          "output_type": "execute_result",
          "data": {
            "text/plain": [
              "[0.13639023244960605,\n",
              " 1.6677224559837098,\n",
              " 0.3362163670427329,\n",
              " 2.2649784224683724,\n",
              " 1.5807046363029114,\n",
              " 0.14568548599175926,\n",
              " 5.729594327192581,\n",
              " 4.8335669433196475,\n",
              " 1.0029521845559142,\n",
              " 2.039180890498713]"
            ]
          },
          "metadata": {
            "tags": []
          },
          "execution_count": 20
        }
      ]
    },
    {
      "cell_type": "markdown",
      "metadata": {
        "id": "eBhoUvVpEqLL",
        "colab_type": "text"
      },
      "source": [
        "### Lambda Functions\n",
        "\n",
        "Note that you can also use lambda functions if you want to quickly perform simple operations on data without creating a function. Let's assume that BuyStuff has also decided to offer a 10% discount on all of their items on the pre-tax amounts of each item. Use a lambda function within a `.map()` method to apply the additional 10% loss in revenue for BuyStuff and assign the transformed RDD to a new RDD called `discounted`."
      ]
    },
    {
      "cell_type": "code",
      "metadata": {
        "id": "Ci2G8x_6EqLM",
        "colab_type": "code",
        "colab": {}
      },
      "source": [
        "discounted = revenue_minus_tax.map(lambda x : x*0.9)"
      ],
      "execution_count": 21,
      "outputs": []
    },
    {
      "cell_type": "code",
      "metadata": {
        "scrolled": true,
        "id": "ucBLQMYyEqLP",
        "colab_type": "code",
        "colab": {
          "base_uri": "https://localhost:8080/",
          "height": 184
        },
        "outputId": "0158497b-7285-4046-ce62-1f8de63d099d"
      },
      "source": [
        "discounted.take(10)"
      ],
      "execution_count": 22,
      "outputs": [
        {
          "output_type": "execute_result",
          "data": {
            "text/plain": [
              "[0.12275120920464544,\n",
              " 1.500950210385339,\n",
              " 0.3025947303384596,\n",
              " 2.038480580221535,\n",
              " 1.4226341726726202,\n",
              " 0.13111693739258334,\n",
              " 5.156634894473323,\n",
              " 4.350210248987683,\n",
              " 0.9026569661003228,\n",
              " 1.8352628014488417]"
            ]
          },
          "metadata": {
            "tags": []
          },
          "execution_count": 22
        }
      ]
    },
    {
      "cell_type": "markdown",
      "metadata": {
        "id": "nDk6YN1IEqLT",
        "colab_type": "text"
      },
      "source": [
        "## Chaining Methods\n",
        "\n",
        "You are also able to chain methods together with Spark. In one line, remove the tax and discount from the revenue of BuyStuff and use a collection method to see the 15 costliest items."
      ]
    },
    {
      "cell_type": "code",
      "metadata": {
        "scrolled": true,
        "id": "4pje5Yh6EqLT",
        "colab_type": "code",
        "colab": {
          "base_uri": "https://localhost:8080/",
          "height": 268
        },
        "outputId": "fd87477c-48a2-45f2-bea5-211c6718ccd5"
      },
      "source": [
        "price_items.map(sales_tax).map(lambda x : x*0.9).top(15)"
      ],
      "execution_count": 23,
      "outputs": [
        {
          "output_type": "execute_result",
          "data": {
            "text/plain": [
              "[813.9535661951238,\n",
              " 808.1500243870036,\n",
              " 786.098037184167,\n",
              " 752.9893453962015,\n",
              " 744.963194106704,\n",
              " 727.415906309577,\n",
              " 715.1672086142426,\n",
              " 714.2153955603035,\n",
              " 709.762249416048,\n",
              " 697.7832268180738,\n",
              " 697.5037768320659,\n",
              " 692.0140189685011,\n",
              " 691.1335982151201,\n",
              " 682.4848550764997,\n",
              " 681.342754413888]"
            ]
          },
          "metadata": {
            "tags": []
          },
          "execution_count": 23
        }
      ]
    },
    {
      "cell_type": "markdown",
      "metadata": {
        "id": "qPRa643oEqLV",
        "colab_type": "text"
      },
      "source": [
        "## RDD Lineage\n",
        "\n",
        "\n",
        "We are able to see the full lineage of all the operations that have been performed on an RDD by using the `RDD.toDebugString()` method. As your transformations become more complex, you are encouraged to call this method to get a better understanding of the dependencies between RDDs. Try calling it on the `discounted` RDD to see what RDDs it is dependent on."
      ]
    },
    {
      "cell_type": "code",
      "metadata": {
        "id": "YGHWTMDOEqLW",
        "colab_type": "code",
        "colab": {
          "base_uri": "https://localhost:8080/",
          "height": 33
        },
        "outputId": "72bc0d64-31fb-42c7-9d47-e77b5788f588"
      },
      "source": [
        "discounted.toDebugString()"
      ],
      "execution_count": 24,
      "outputs": [
        {
          "output_type": "execute_result",
          "data": {
            "text/plain": [
              "b'(10) PythonRDD[10] at RDD at PythonRDD.scala:53 []\\n |   ParallelCollectionRDD[5] at parallelize at PythonRDD.scala:195 []'"
            ]
          },
          "metadata": {
            "tags": []
          },
          "execution_count": 24
        }
      ]
    },
    {
      "cell_type": "markdown",
      "metadata": {
        "id": "dLO4MFugEqLZ",
        "colab_type": "text"
      },
      "source": [
        "### Map vs. Flatmap\n",
        "\n",
        "Depending on how you want your data to be outputted, you might want to use `.flatMap()` rather than a simple `.map()`. Let's take a look at how it performs operations versus the standard map. Let's say we wanted to maintain the original amount BuyStuff receives for each item as well as the new amount after the tax and discount are applied. Create a map function that will return a tuple with (original price, post-discount price)."
      ]
    },
    {
      "cell_type": "code",
      "metadata": {
        "id": "BMNsPETfEqLZ",
        "colab_type": "code",
        "colab": {
          "base_uri": "https://localhost:8080/",
          "height": 70
        },
        "outputId": "f2f816b5-172e-4d74-ba4e-edd8102c65f9"
      },
      "source": [
        "mapped = price_items.map(lambda x: (x, x*0.92 *0.9))\n",
        "print(mapped.count())\n",
        "print(mapped.take(10))"
      ],
      "execution_count": 25,
      "outputs": [
        {
          "output_type": "stream",
          "text": [
            "1000\n",
            "[(0.14825025266261527, 0.12275120920464544), (1.8127417999822932, 1.500950210385339), (0.36545257287253574, 0.3025947303384596), (2.4619330679004046, 2.038480580221535), (1.7181572133727296, 1.4226341726726202), (0.15835378912147746, 0.13111693739258334), (6.227819920861501, 5.156634894473323), (5.2538771123039645, 4.350210248987683), (1.0901654179955589, 0.9026569661003228), (2.2165009679333836, 1.8352628014488417)]\n"
          ],
          "name": "stdout"
        }
      ]
    },
    {
      "cell_type": "markdown",
      "metadata": {
        "id": "c6pHuDBbEqLb",
        "colab_type": "text"
      },
      "source": [
        "Note that we have 1000 tuples created to our specification. Let's take a look at how `.flatMap()` differs in its implementation. Use the `.flatMap()` method with the same function you created above."
      ]
    },
    {
      "cell_type": "code",
      "metadata": {
        "id": "bKhkrn3BEqLc",
        "colab_type": "code",
        "colab": {
          "base_uri": "https://localhost:8080/",
          "height": 50
        },
        "outputId": "7ef8a835-9fdb-460d-a06e-13a0d02a489b"
      },
      "source": [
        "flat_mapped = price_items.flatMap(lambda x : (x, x*0.92*0.9 ))\n",
        "print(flat_mapped.count())\n",
        "print(flat_mapped.take(10))"
      ],
      "execution_count": 26,
      "outputs": [
        {
          "output_type": "stream",
          "text": [
            "2000\n",
            "[0.14825025266261527, 0.12275120920464544, 1.8127417999822932, 1.500950210385339, 0.36545257287253574, 0.3025947303384596, 2.4619330679004046, 2.038480580221535, 1.7181572133727296, 1.4226341726726202]\n"
          ],
          "name": "stdout"
        }
      ]
    },
    {
      "cell_type": "markdown",
      "metadata": {
        "id": "a8Odw8AAEqLe",
        "colab_type": "text"
      },
      "source": [
        "Rather than being represented by tuples, all of the  values are now on the same level. When we are trying to combine different items together, it is sometimes necessary to use `.flatMap()` rather than `.map()` in order to properly reduce to our specifications. This is not one of those instances, but in the upcoming lab, you just might have to use it."
      ]
    },
    {
      "cell_type": "markdown",
      "metadata": {
        "id": "DJn2cQX7EqLf",
        "colab_type": "text"
      },
      "source": [
        "## Filter\n",
        "After meeting with some external consultants, BuyStuff has determined that its business will be more profitable if it focuses on higher ticket items. Now, use the `.filter()` method to select items that bring in more than $300 after tax and discount have been removed. A filter method is a specialized form of a map function that only returns the items that match a certain criterion. In the cell below:\n",
        "* use a lambda function within a `.filter()` method to meet the consultant's suggestion's specifications. set `RDD = selected_items`\n",
        "* calculate the total number of items remaining in BuyStuff's inventory"
      ]
    },
    {
      "cell_type": "code",
      "metadata": {
        "id": "uyrTYRF_EqLf",
        "colab_type": "code",
        "colab": {
          "base_uri": "https://localhost:8080/",
          "height": 33
        },
        "outputId": "7ba20597-22a7-4103-b340-e2cd6da78102"
      },
      "source": [
        "# use the filter function\n",
        "selected_items = discounted.filter(lambda x: x>300)\n",
        "# calculate total remaining in inventory \n",
        "selected_items.count()"
      ],
      "execution_count": 27,
      "outputs": [
        {
          "output_type": "execute_result",
          "data": {
            "text/plain": [
              "264"
            ]
          },
          "metadata": {
            "tags": []
          },
          "execution_count": 27
        }
      ]
    },
    {
      "cell_type": "markdown",
      "metadata": {
        "id": "9GyXTZKHEqLi",
        "colab_type": "text"
      },
      "source": [
        "## Reduce\n",
        "\n",
        "Reduce functions are where you are in some way combing all of the variables that you have mapped out. Here is an example of how a reduce function works when the task is to sum all values:\n",
        "\n",
        "<img src = \"./images/reduce_function.png\" width = \"600\">  \n",
        "\n",
        "\n",
        "As you can see, the operation is performed within each partition first, after which, the results of the computations in each partition are combined to come up with one final answer.  \n",
        "\n",
        "Now it's time to figure out how much money BuyStuff would make from selling one of all of its items after they've reduced their inventory. Use the `.reduce()` method with a lambda function to add up all of the values in the RDD. Your lambda function should have two variables. "
      ]
    },
    {
      "cell_type": "code",
      "metadata": {
        "id": "vD7O6dDVEqLi",
        "colab_type": "code",
        "colab": {
          "base_uri": "https://localhost:8080/",
          "height": 33
        },
        "outputId": "9025f22d-e2a4-435d-bb1e-8c47ce0eb9fd"
      },
      "source": [
        "selected_items.reduce(lambda x,y: x + y)"
      ],
      "execution_count": 28,
      "outputs": [
        {
          "output_type": "execute_result",
          "data": {
            "text/plain": [
              "121489.54077650601"
            ]
          },
          "metadata": {
            "tags": []
          },
          "execution_count": 28
        }
      ]
    },
    {
      "cell_type": "markdown",
      "metadata": {
        "id": "n3erVej_EqLm",
        "colab_type": "text"
      },
      "source": [
        "The time has come for BuyStuff to open up shop and start selling its goods. It only has one of each item, but it's allowing 50 lucky users to buy as many items as they want while they remain in stock. Within seconds, BuyStuff is sold out. Below, you'll find the sales data in an RDD with tuples of (user, item bought)."
      ]
    },
    {
      "cell_type": "code",
      "metadata": {
        "id": "Yz5aibmDEqLm",
        "colab_type": "code",
        "colab": {
          "base_uri": "https://localhost:8080/",
          "height": 134
        },
        "outputId": "85d9d7f1-e5b7-4e72-969a-d730063098f5"
      },
      "source": [
        "import random\n",
        "random.seed(42)\n",
        "# generating simulated users that have bought each item\n",
        "sales_data = selected_items.map(lambda x: (random.randint(1, 50), x))\n",
        "\n",
        "sales_data.take(7)"
      ],
      "execution_count": 29,
      "outputs": [
        {
          "output_type": "execute_result",
          "data": {
            "text/plain": [
              "[(48, 304.695247544035),\n",
              " (48, 314.5387441032739),\n",
              " (17, 339.9048923173718),\n",
              " (48, 334.0972986168994),\n",
              " (42, 341.7431555637409),\n",
              " (7, 333.91146489303304),\n",
              " (21, 326.15055170962245)]"
            ]
          },
          "metadata": {
            "tags": []
          },
          "execution_count": 29
        }
      ]
    },
    {
      "cell_type": "markdown",
      "metadata": {
        "id": "xsZkLV6FEqLp",
        "colab_type": "text"
      },
      "source": [
        "It's time to determine some basic statistics about BuyStuff users.\n",
        "\n",
        "Let's start off by creating an RDD that determines how much each user spent in total.\n",
        "To do this we can use a method called `.reduceByKey()` to perform reducing operations while grouping by keys. After you have calculated the total, use the `.sortBy()` method on the RDD to rank the users from the highest spending to the least spending. "
      ]
    },
    {
      "cell_type": "code",
      "metadata": {
        "id": "MUPMikJyEqLq",
        "colab_type": "code",
        "colab": {
          "base_uri": "https://localhost:8080/",
          "height": 184
        },
        "outputId": "711b19b2-3be3-4f89-dd87-9247bc717cdd"
      },
      "source": [
        "# calculate how much each user spent\n",
        "total_spent = sales_data.reduceByKey(lambda x, y: x + y)\n",
        "total_spent.take(10)"
      ],
      "execution_count": 30,
      "outputs": [
        {
          "output_type": "execute_result",
          "data": {
            "text/plain": [
              "[(20, 4058.831986905205),\n",
              " (30, 957.7939902333285),\n",
              " (50, 2318.1081565656086),\n",
              " (40, 1072.4055697770577),\n",
              " (21, 3657.7008406794585),\n",
              " (11, 2517.3398143963036),\n",
              " (41, 4843.500435932669),\n",
              " (31, 1846.7830791242125),\n",
              " (1, 1206.894309423443),\n",
              " (42, 3829.8278370766093)]"
            ]
          },
          "metadata": {
            "tags": []
          },
          "execution_count": 30
        }
      ]
    },
    {
      "cell_type": "code",
      "metadata": {
        "id": "izhmm4rBEqLs",
        "colab_type": "code",
        "colab": {
          "base_uri": "https://localhost:8080/",
          "height": 753
        },
        "outputId": "a42a1e4d-c8f8-492b-9ce5-2a4916b9d9f8"
      },
      "source": [
        "# sort the users from highest to lowest spenders\n",
        "total_spent.sortBy(lambda x: x[1],ascending = False).collect()"
      ],
      "execution_count": 31,
      "outputs": [
        {
          "output_type": "execute_result",
          "data": {
            "text/plain": [
              "[(33, 6839.2587861100255),\n",
              " (25, 6614.500211656902),\n",
              " (45, 5423.431017429708),\n",
              " (38, 5061.907415048679),\n",
              " (41, 4843.500435932669),\n",
              " (17, 4310.312340864783),\n",
              " (20, 4058.831986905205),\n",
              " (42, 3829.8278370766093),\n",
              " (21, 3657.7008406794585),\n",
              " (7, 3619.90732474349),\n",
              " (8, 3603.482395370413),\n",
              " (37, 3598.270158831065),\n",
              " (18, 3447.495044134939),\n",
              " (19, 3248.3100070096907),\n",
              " (48, 3218.358780578536),\n",
              " (24, 3211.387622803405),\n",
              " (32, 3154.817105517833),\n",
              " (44, 3084.888727323968),\n",
              " (35, 3082.8710908494395),\n",
              " (49, 2914.9513538879305),\n",
              " (3, 2859.6967373399266),\n",
              " (15, 2816.910409174924),\n",
              " (12, 2686.553108797154),\n",
              " (43, 2661.9389984447453),\n",
              " (39, 2563.7149977798144),\n",
              " (11, 2517.3398143963036),\n",
              " (28, 2487.7882992819814),\n",
              " (50, 2318.1081565656086),\n",
              " (6, 2125.9527133523807),\n",
              " (9, 1964.1061892419232),\n",
              " (31, 1846.7830791242125),\n",
              " (22, 1472.3587989340308),\n",
              " (46, 1450.5728802549374),\n",
              " (27, 1420.8007703663532),\n",
              " (13, 1352.3714379854275),\n",
              " (1, 1206.894309423443),\n",
              " (40, 1072.4055697770577),\n",
              " (30, 957.7939902333285),\n",
              " (34, 915.7335147353283),\n",
              " (5, 886.1214817474788),\n",
              " (29, 874.7016400969367),\n",
              " (4, 827.4940087339514),\n",
              " (14, 759.6047860096293),\n",
              " (2, 619.7846019543745)]"
            ]
          },
          "metadata": {
            "tags": []
          },
          "execution_count": 31
        }
      ]
    },
    {
      "cell_type": "markdown",
      "metadata": {
        "id": "lJtDowOeEqLv",
        "colab_type": "text"
      },
      "source": [
        "Next, let's determine how many items were bought per user. This can be solved in one line using an RDD method. After you've counted the total number of items bought per person, sort the users from most number of items bought to least number of items. Time to start a customer loyalty program!"
      ]
    },
    {
      "cell_type": "code",
      "metadata": {
        "id": "JDhHIjZrEqLv",
        "colab_type": "code",
        "colab": {
          "base_uri": "https://localhost:8080/",
          "height": 786
        },
        "outputId": "b5110789-8b7f-4f18-900e-8d948f72aa85"
      },
      "source": [
        "# how many items were bought per user\n",
        "total_items = sales_data.countByKey()\n",
        "sorted(total_items.items(),key=lambda kv:kv[1],reverse=True)"
      ],
      "execution_count": 32,
      "outputs": [
        {
          "output_type": "execute_result",
          "data": {
            "text/plain": [
              "[(19, 11),\n",
              " (49, 11),\n",
              " (36, 10),\n",
              " (8, 10),\n",
              " (50, 10),\n",
              " (2, 9),\n",
              " (17, 9),\n",
              " (11, 8),\n",
              " (25, 8),\n",
              " (22, 8),\n",
              " (33, 8),\n",
              " (21, 8),\n",
              " (5, 8),\n",
              " (9, 8),\n",
              " (35, 8),\n",
              " (6, 7),\n",
              " (24, 7),\n",
              " (13, 7),\n",
              " (42, 6),\n",
              " (7, 6),\n",
              " (26, 6),\n",
              " (47, 6),\n",
              " (14, 6),\n",
              " (30, 6),\n",
              " (46, 5),\n",
              " (34, 4),\n",
              " (18, 4),\n",
              " (38, 4),\n",
              " (40, 4),\n",
              " (41, 4),\n",
              " (37, 4),\n",
              " (4, 4),\n",
              " (16, 4),\n",
              " (27, 4),\n",
              " (39, 4),\n",
              " (23, 4),\n",
              " (48, 3),\n",
              " (32, 3),\n",
              " (1, 3),\n",
              " (20, 3),\n",
              " (12, 2),\n",
              " (28, 2),\n",
              " (15, 2),\n",
              " (45, 2),\n",
              " (44, 2),\n",
              " (43, 2)]"
            ]
          },
          "metadata": {
            "tags": []
          },
          "execution_count": 32
        }
      ]
    },
    {
      "cell_type": "markdown",
      "metadata": {
        "id": "9n-iBJeSEqLy",
        "colab_type": "text"
      },
      "source": [
        "### Additional Reading\n",
        "\n",
        "- [The original paper on RDDs](https://cs.stanford.edu/~matei/papers/2012/nsdi_spark.pdf)\n",
        "- [RDDs in Apache Spark](https://data-flair.training/blogs/create-rdds-in-apache-spark/)\n",
        "- [Programming with RDDs](https://runawayhorse001.github.io/LearningApacheSpark/rdd.html)\n",
        "- [RDD Transformations and Actions Summary](https://www.analyticsvidhya.com/blog/2016/10/using-pyspark-to-perform-transformations-and-actions-on-rdd/)"
      ]
    },
    {
      "cell_type": "markdown",
      "metadata": {
        "id": "1gDrT_G3EqLy",
        "colab_type": "text"
      },
      "source": [
        "## Summary\n",
        "\n",
        "In this lab we went through a brief introduction to RDD creation from a Python collection, setting a number of logical partitions for an RDD and extracting lineage. We also used transformations and actions to perform calculations across RDDs on a distributed setup. In the next lab, you'll get the chance to apply these transformations on different books to calculate word counts and various statistics.\n"
      ]
    }
  ]
}